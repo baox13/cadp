{
 "cells": [
  {
   "cell_type": "markdown",
   "metadata": {
    "papermill": {
     "duration": 0.01751,
     "end_time": "2021-03-16T11:19:20.786336",
     "exception": false,
     "start_time": "2021-03-16T11:19:20.768826",
     "status": "completed"
    },
    "tags": []
   },
   "source": [
    "# model copyed\n",
    "# [Can you feel my heartbeat?](http://)\n",
    "\n",
    "\n",
    "> The web app is available at :https://heartfailure-predictor.herokuapp.com/\n",
    "\n",
    "> Source code: https://github.com/gabbygab1233/Heart-Failure-Predictor-Application/\n",
    "![](https://i.imgur.com/Yrn231v.png)\n",
    "\n",
    "\n"
   ]
  },
  {
   "cell_type": "code",
   "execution_count": 1,
   "metadata": {
    "_cell_guid": "b1076dfc-b9ad-4769-8c92-a6c4dae69d19",
    "_kg_hide-input": false,
    "_uuid": "8f2839f25d086af736a60e9eeb907d3b93b6e0e5",
    "execution": {
     "iopub.execute_input": "2021-03-16T11:19:20.835500Z",
     "iopub.status.busy": "2021-03-16T11:19:20.833242Z",
     "iopub.status.idle": "2021-03-16T11:19:25.310997Z",
     "shell.execute_reply": "2021-03-16T11:19:25.311521Z"
    },
    "papermill": {
     "duration": 4.509531,
     "end_time": "2021-03-16T11:19:25.311905",
     "exception": false,
     "start_time": "2021-03-16T11:19:20.802374",
     "status": "completed"
    },
    "tags": []
   },
   "outputs": [
    {
     "data": {
      "text/html": [
       "<div>\n",
       "<style scoped>\n",
       "    .dataframe tbody tr th:only-of-type {\n",
       "        vertical-align: middle;\n",
       "    }\n",
       "\n",
       "    .dataframe tbody tr th {\n",
       "        vertical-align: top;\n",
       "    }\n",
       "\n",
       "    .dataframe thead th {\n",
       "        text-align: right;\n",
       "    }\n",
       "</style>\n",
       "<table border=\"1\" class=\"dataframe\">\n",
       "  <thead>\n",
       "    <tr style=\"text-align: right;\">\n",
       "      <th></th>\n",
       "      <th>gender</th>\n",
       "      <th>hypertension</th>\n",
       "      <th>diabete</th>\n",
       "      <th>smokecurrent</th>\n",
       "      <th>hpgrade</th>\n",
       "      <th>chestpain</th>\n",
       "      <th>age</th>\n",
       "      <th>cho</th>\n",
       "      <th>hdl</th>\n",
       "      <th>ldl</th>\n",
       "      <th>...</th>\n",
       "      <th>ps</th>\n",
       "      <th>rccaimt</th>\n",
       "      <th>lccacl</th>\n",
       "      <th>rccact</th>\n",
       "      <th>rccacl</th>\n",
       "      <th>avr_imt</th>\n",
       "      <th>aip</th>\n",
       "      <th>Scorer</th>\n",
       "      <th>Framinghamr</th>\n",
       "      <th>target</th>\n",
       "    </tr>\n",
       "  </thead>\n",
       "  <tbody>\n",
       "    <tr>\n",
       "      <th>0</th>\n",
       "      <td>0</td>\n",
       "      <td>1</td>\n",
       "      <td>0</td>\n",
       "      <td>0</td>\n",
       "      <td>3.0</td>\n",
       "      <td>3</td>\n",
       "      <td>74</td>\n",
       "      <td>2.63</td>\n",
       "      <td>1.60</td>\n",
       "      <td>1.33</td>\n",
       "      <td>...</td>\n",
       "      <td>0.15</td>\n",
       "      <td>0.10</td>\n",
       "      <td>0.00</td>\n",
       "      <td>0.06</td>\n",
       "      <td>0.39</td>\n",
       "      <td>0.10</td>\n",
       "      <td>-0.50</td>\n",
       "      <td>0.10</td>\n",
       "      <td>0.03</td>\n",
       "      <td>0</td>\n",
       "    </tr>\n",
       "    <tr>\n",
       "      <th>1</th>\n",
       "      <td>1</td>\n",
       "      <td>0</td>\n",
       "      <td>0</td>\n",
       "      <td>0</td>\n",
       "      <td>3.0</td>\n",
       "      <td>0</td>\n",
       "      <td>69</td>\n",
       "      <td>3.09</td>\n",
       "      <td>0.73</td>\n",
       "      <td>1.86</td>\n",
       "      <td>...</td>\n",
       "      <td>0.17</td>\n",
       "      <td>0.10</td>\n",
       "      <td>0.42</td>\n",
       "      <td>0.00</td>\n",
       "      <td>0.00</td>\n",
       "      <td>0.10</td>\n",
       "      <td>0.39</td>\n",
       "      <td>0.14</td>\n",
       "      <td>0.13</td>\n",
       "      <td>0</td>\n",
       "    </tr>\n",
       "    <tr>\n",
       "      <th>2</th>\n",
       "      <td>0</td>\n",
       "      <td>0</td>\n",
       "      <td>0</td>\n",
       "      <td>0</td>\n",
       "      <td>0.5</td>\n",
       "      <td>0</td>\n",
       "      <td>63</td>\n",
       "      <td>6.48</td>\n",
       "      <td>1.65</td>\n",
       "      <td>4.47</td>\n",
       "      <td>...</td>\n",
       "      <td>0.00</td>\n",
       "      <td>0.06</td>\n",
       "      <td>0.00</td>\n",
       "      <td>0.00</td>\n",
       "      <td>0.00</td>\n",
       "      <td>0.06</td>\n",
       "      <td>-0.23</td>\n",
       "      <td>0.03</td>\n",
       "      <td>0.03</td>\n",
       "      <td>0</td>\n",
       "    </tr>\n",
       "    <tr>\n",
       "      <th>3</th>\n",
       "      <td>0</td>\n",
       "      <td>1</td>\n",
       "      <td>0</td>\n",
       "      <td>0</td>\n",
       "      <td>3.0</td>\n",
       "      <td>0</td>\n",
       "      <td>63</td>\n",
       "      <td>5.96</td>\n",
       "      <td>1.50</td>\n",
       "      <td>4.59</td>\n",
       "      <td>...</td>\n",
       "      <td>0.71</td>\n",
       "      <td>0.10</td>\n",
       "      <td>0.97</td>\n",
       "      <td>0.58</td>\n",
       "      <td>2.30</td>\n",
       "      <td>0.10</td>\n",
       "      <td>-0.26</td>\n",
       "      <td>0.02</td>\n",
       "      <td>0.05</td>\n",
       "      <td>0</td>\n",
       "    </tr>\n",
       "    <tr>\n",
       "      <th>4</th>\n",
       "      <td>1</td>\n",
       "      <td>0</td>\n",
       "      <td>0</td>\n",
       "      <td>1</td>\n",
       "      <td>0.0</td>\n",
       "      <td>0</td>\n",
       "      <td>65</td>\n",
       "      <td>3.73</td>\n",
       "      <td>1.13</td>\n",
       "      <td>2.50</td>\n",
       "      <td>...</td>\n",
       "      <td>0.34</td>\n",
       "      <td>0.10</td>\n",
       "      <td>0.53</td>\n",
       "      <td>0.12</td>\n",
       "      <td>0.62</td>\n",
       "      <td>0.11</td>\n",
       "      <td>-0.03</td>\n",
       "      <td>0.18</td>\n",
       "      <td>0.20</td>\n",
       "      <td>0</td>\n",
       "    </tr>\n",
       "  </tbody>\n",
       "</table>\n",
       "<p>5 rows × 39 columns</p>\n",
       "</div>"
      ],
      "text/plain": [
       "   gender  hypertension  diabete  smokecurrent  hpgrade  chestpain  age   cho  \\\n",
       "0       0             1        0             0      3.0          3   74  2.63   \n",
       "1       1             0        0             0      3.0          0   69  3.09   \n",
       "2       0             0        0             0      0.5          0   63  6.48   \n",
       "3       0             1        0             0      3.0          0   63  5.96   \n",
       "4       1             0        0             1      0.0          0   65  3.73   \n",
       "\n",
       "    hdl   ldl  ...    ps  rccaimt  lccacl  rccact  rccacl  avr_imt   aip  \\\n",
       "0  1.60  1.33  ...  0.15     0.10    0.00    0.06    0.39     0.10 -0.50   \n",
       "1  0.73  1.86  ...  0.17     0.10    0.42    0.00    0.00     0.10  0.39   \n",
       "2  1.65  4.47  ...  0.00     0.06    0.00    0.00    0.00     0.06 -0.23   \n",
       "3  1.50  4.59  ...  0.71     0.10    0.97    0.58    2.30     0.10 -0.26   \n",
       "4  1.13  2.50  ...  0.34     0.10    0.53    0.12    0.62     0.11 -0.03   \n",
       "\n",
       "   Scorer  Framinghamr  target  \n",
       "0    0.10         0.03       0  \n",
       "1    0.14         0.13       0  \n",
       "2    0.03         0.03       0  \n",
       "3    0.02         0.05       0  \n",
       "4    0.18         0.20       0  \n",
       "\n",
       "[5 rows x 39 columns]"
      ]
     },
     "execution_count": 1,
     "metadata": {},
     "output_type": "execute_result"
    }
   ],
   "source": [
    "import pandas as pd\n",
    "import pandas_profiling as pp\n",
    "import numpy as np\n",
    "import seaborn as sns\n",
    "import matplotlib.pyplot as plt\n",
    "import warnings\n",
    "import os\n",
    "import plotly.graph_objects as go\n",
    "import plotly.io as pio\n",
    "import pickle\n",
    "from sklearn.utils import resample\n",
    "# Metrics\n",
    "from sklearn.metrics import accuracy_score, classification_report, confusion_matrix, auc, roc_curve\n",
    "\n",
    "# Validation\n",
    "from sklearn.model_selection import train_test_split, cross_val_score, KFold\n",
    "from sklearn.pipeline import Pipeline, make_pipeline\n",
    "\n",
    "# Tuning\n",
    "from sklearn.model_selection import GridSearchCV\n",
    "\n",
    "# Feature Extraction\n",
    "from sklearn.feature_selection import RFE\n",
    "\n",
    "# Preprocessing\n",
    "from sklearn.preprocessing import MinMaxScaler, StandardScaler, Normalizer, Binarizer, LabelEncoder\n",
    "\n",
    "# Models\n",
    "from sklearn.discriminant_analysis import LinearDiscriminantAnalysis\n",
    "from sklearn.linear_model import LogisticRegression\n",
    "from sklearn.naive_bayes import GaussianNB\n",
    "from sklearn.svm import SVC\n",
    "from sklearn.neighbors import KNeighborsClassifier\n",
    "from sklearn.tree import DecisionTreeClassifier\n",
    "\n",
    "# Ensembles\n",
    "from sklearn.ensemble import RandomForestClassifier\n",
    "from sklearn.ensemble import BaggingClassifier\n",
    "from sklearn.ensemble import AdaBoostClassifier\n",
    "from sklearn.ensemble import GradientBoostingClassifier\n",
    "from sklearn.ensemble import ExtraTreesClassifier\n",
    "\n",
    "warnings.filterwarnings('ignore')\n",
    "%matplotlib inline\n",
    "\n",
    "sns.set_style(\"whitegrid\", {'axes.grid' : False})\n",
    "pio.templates.default = \"plotly_white\"\n",
    "\n",
    "\n",
    "df = pd.read_csv('../input/210220/210220.csv')\n",
    "df.head()"
   ]
  },
  {
   "cell_type": "code",
   "execution_count": 2,
   "metadata": {
    "execution": {
     "iopub.execute_input": "2021-03-16T11:19:25.349965Z",
     "iopub.status.busy": "2021-03-16T11:19:25.348880Z",
     "iopub.status.idle": "2021-03-16T11:19:25.384067Z",
     "shell.execute_reply": "2021-03-16T11:19:25.384524Z"
    },
    "papermill": {
     "duration": 0.055875,
     "end_time": "2021-03-16T11:19:25.384718",
     "exception": false,
     "start_time": "2021-03-16T11:19:25.328843",
     "status": "completed"
    },
    "tags": []
   },
   "outputs": [
    {
     "data": {
      "text/html": [
       "<div>\n",
       "<style scoped>\n",
       "    .dataframe tbody tr th:only-of-type {\n",
       "        vertical-align: middle;\n",
       "    }\n",
       "\n",
       "    .dataframe tbody tr th {\n",
       "        vertical-align: top;\n",
       "    }\n",
       "\n",
       "    .dataframe thead th {\n",
       "        text-align: right;\n",
       "    }\n",
       "</style>\n",
       "<table border=\"1\" class=\"dataframe\">\n",
       "  <thead>\n",
       "    <tr style=\"text-align: right;\">\n",
       "      <th></th>\n",
       "      <th>gender</th>\n",
       "      <th>hypertension</th>\n",
       "      <th>diabete</th>\n",
       "      <th>smokecurrent</th>\n",
       "      <th>hpgrade</th>\n",
       "      <th>chestpain</th>\n",
       "      <th>age</th>\n",
       "      <th>cho</th>\n",
       "      <th>rccach</th>\n",
       "      <th>max_ccach</th>\n",
       "      <th>max_ccacl</th>\n",
       "      <th>ps</th>\n",
       "      <th>target</th>\n",
       "    </tr>\n",
       "  </thead>\n",
       "  <tbody>\n",
       "    <tr>\n",
       "      <th>0</th>\n",
       "      <td>0</td>\n",
       "      <td>1</td>\n",
       "      <td>0</td>\n",
       "      <td>0</td>\n",
       "      <td>3.0</td>\n",
       "      <td>3</td>\n",
       "      <td>74</td>\n",
       "      <td>2.63</td>\n",
       "      <td>0.15</td>\n",
       "      <td>0.15</td>\n",
       "      <td>0.39</td>\n",
       "      <td>0.15</td>\n",
       "      <td>0</td>\n",
       "    </tr>\n",
       "    <tr>\n",
       "      <th>1</th>\n",
       "      <td>1</td>\n",
       "      <td>0</td>\n",
       "      <td>0</td>\n",
       "      <td>0</td>\n",
       "      <td>3.0</td>\n",
       "      <td>0</td>\n",
       "      <td>69</td>\n",
       "      <td>3.09</td>\n",
       "      <td>0.00</td>\n",
       "      <td>0.17</td>\n",
       "      <td>0.42</td>\n",
       "      <td>0.17</td>\n",
       "      <td>0</td>\n",
       "    </tr>\n",
       "    <tr>\n",
       "      <th>2</th>\n",
       "      <td>0</td>\n",
       "      <td>0</td>\n",
       "      <td>0</td>\n",
       "      <td>0</td>\n",
       "      <td>0.5</td>\n",
       "      <td>0</td>\n",
       "      <td>63</td>\n",
       "      <td>6.48</td>\n",
       "      <td>0.00</td>\n",
       "      <td>0.00</td>\n",
       "      <td>0.00</td>\n",
       "      <td>0.00</td>\n",
       "      <td>0</td>\n",
       "    </tr>\n",
       "    <tr>\n",
       "      <th>3</th>\n",
       "      <td>0</td>\n",
       "      <td>1</td>\n",
       "      <td>0</td>\n",
       "      <td>0</td>\n",
       "      <td>3.0</td>\n",
       "      <td>0</td>\n",
       "      <td>63</td>\n",
       "      <td>5.96</td>\n",
       "      <td>0.25</td>\n",
       "      <td>0.25</td>\n",
       "      <td>2.30</td>\n",
       "      <td>0.71</td>\n",
       "      <td>0</td>\n",
       "    </tr>\n",
       "    <tr>\n",
       "      <th>4</th>\n",
       "      <td>1</td>\n",
       "      <td>0</td>\n",
       "      <td>0</td>\n",
       "      <td>1</td>\n",
       "      <td>0.0</td>\n",
       "      <td>0</td>\n",
       "      <td>65</td>\n",
       "      <td>3.73</td>\n",
       "      <td>0.19</td>\n",
       "      <td>0.19</td>\n",
       "      <td>0.62</td>\n",
       "      <td>0.34</td>\n",
       "      <td>0</td>\n",
       "    </tr>\n",
       "  </tbody>\n",
       "</table>\n",
       "</div>"
      ],
      "text/plain": [
       "   gender  hypertension  diabete  smokecurrent  hpgrade  chestpain  age   cho  \\\n",
       "0       0             1        0             0      3.0          3   74  2.63   \n",
       "1       1             0        0             0      3.0          0   69  3.09   \n",
       "2       0             0        0             0      0.5          0   63  6.48   \n",
       "3       0             1        0             0      3.0          0   63  5.96   \n",
       "4       1             0        0             1      0.0          0   65  3.73   \n",
       "\n",
       "   rccach  max_ccach  max_ccacl    ps  target  \n",
       "0    0.15       0.15       0.39  0.15       0  \n",
       "1    0.00       0.17       0.42  0.17       0  \n",
       "2    0.00       0.00       0.00  0.00       0  \n",
       "3    0.25       0.25       2.30  0.71       0  \n",
       "4    0.19       0.19       0.62  0.34       0  "
      ]
     },
     "execution_count": 2,
     "metadata": {},
     "output_type": "execute_result"
    }
   ],
   "source": [
    "# clarify what is y and what is x label\n",
    "df2 = pd.read_csv('/kaggle/input/210220/210220.csv')\n",
    "\n",
    "df = df2.drop([ 'hdl', 'ldl', 'crge', 'sbp', 'height', 'nep',\n",
    "       'ly', 'mo', 'mcvfl', 'glu', 'bun', 'ua', 'ckmb', 'fib', 'dd', 'lccaimt',\n",
    "       'lccact', 'lccach',   'rccaimt',\n",
    "       'lccacl', 'rccact', 'rccacl', 'avr_imt', 'aip', 'Scorer', 'Framinghamr'], axis=1)\n",
    "\n",
    "df.head()"
   ]
  },
  {
   "cell_type": "code",
   "execution_count": 3,
   "metadata": {
    "_kg_hide-input": false,
    "execution": {
     "iopub.execute_input": "2021-03-16T11:19:25.424223Z",
     "iopub.status.busy": "2021-03-16T11:19:25.423077Z",
     "iopub.status.idle": "2021-03-16T11:19:25.454246Z",
     "shell.execute_reply": "2021-03-16T11:19:25.454811Z"
    },
    "papermill": {
     "duration": 0.053316,
     "end_time": "2021-03-16T11:19:25.455034",
     "exception": false,
     "start_time": "2021-03-16T11:19:25.401718",
     "status": "completed"
    },
    "tags": []
   },
   "outputs": [],
   "source": [
    "# Analyze Data\n",
    "def explore_data(df):\n",
    "    print(\"Number of Instances and Attributes:\", df.shape)\n",
    "    print('\\n')\n",
    "    print('Dataset columns:',df.columns)\n",
    "    print('\\n')\n",
    "    print('Data types of each columns: ', df.info())\n",
    "    \n",
    "# Checking for duplicates\n",
    "def checking_removing_duplicates(df):\n",
    "    count_dups = df.duplicated().sum()\n",
    "    print(\"Number of Duplicates: \", count_dups)\n",
    "    if count_dups >= 1:\n",
    "        df.drop_duplicates(inplace=True)\n",
    "        print('Duplicate values removed!')\n",
    "    else:\n",
    "        print('No Duplicate values')\n",
    "    \n",
    "\n",
    "# Split training and validation set\n",
    "def read_in_and_split_data(data, target):\n",
    "    X = data.drop(target, axis=1)\n",
    "    y = data[target]\n",
    "    X_train, X_test, y_train, y_test = train_test_split(X,y,test_size=0.25, random_state=420)\n",
    "    return X_train, X_test, y_train, y_test\n",
    "    \n",
    "# Spot-Check Algorithms\n",
    "def GetModel():\n",
    "    Models = []\n",
    "    Models.append(('LR'   , LogisticRegression()))\n",
    "    Models.append(('LDA'  , LinearDiscriminantAnalysis()))\n",
    "    Models.append(('KNN'  , KNeighborsClassifier()))\n",
    "    Models.append(('CART' , DecisionTreeClassifier()))\n",
    "    Models.append(('NB'   , GaussianNB()))\n",
    "    Models.append(('SVM'  , SVC(probability=True)))\n",
    "    return Models\n",
    "\n",
    "def ensemblemodels():\n",
    "    ensembles = []\n",
    "    ensembles.append(('AB'   , AdaBoostClassifier()))\n",
    "    ensembles.append(('GBM'  , GradientBoostingClassifier()))\n",
    "    ensembles.append(('RF'   , RandomForestClassifier()))\n",
    "    ensembles.append(( 'Bagging' , BaggingClassifier()))\n",
    "    ensembles.append(('ET', ExtraTreesClassifier()))\n",
    "    return ensembles\n",
    "\n",
    "# Spot-Check Normalized Models\n",
    "def NormalizedModel(nameOfScaler):\n",
    "    \n",
    "    if nameOfScaler == 'standard':\n",
    "        scaler = StandardScaler()\n",
    "    elif nameOfScaler =='minmax':\n",
    "        scaler = MinMaxScaler()\n",
    "    elif nameOfScaler == 'normalizer':\n",
    "        scaler = Normalizer()\n",
    "    elif nameOfScaler == 'binarizer':\n",
    "        scaler = Binarizer()\n",
    "\n",
    "    pipelines = []\n",
    "    pipelines.append((nameOfScaler+'LR'  , Pipeline([('Scaler', scaler),('LR'  , LogisticRegression())])))\n",
    "    pipelines.append((nameOfScaler+'LDA' , Pipeline([('Scaler', scaler),('LDA' , LinearDiscriminantAnalysis())])))\n",
    "    pipelines.append((nameOfScaler+'KNN' , Pipeline([('Scaler', scaler),('KNN' , KNeighborsClassifier())])))\n",
    "    pipelines.append((nameOfScaler+'CART', Pipeline([('Scaler', scaler),('CART', DecisionTreeClassifier())])))\n",
    "    pipelines.append((nameOfScaler+'NB'  , Pipeline([('Scaler', scaler),('NB'  , GaussianNB())])))\n",
    "    pipelines.append((nameOfScaler+'SVM' , Pipeline([('Scaler', scaler),('SVM' , SVC())])))\n",
    "    pipelines.append((nameOfScaler+'AB'  , Pipeline([('Scaler', scaler),('AB'  , AdaBoostClassifier())])  ))\n",
    "    pipelines.append((nameOfScaler+'GBM' , Pipeline([('Scaler', scaler),('GMB' , GradientBoostingClassifier())])  ))\n",
    "    pipelines.append((nameOfScaler+'RF'  , Pipeline([('Scaler', scaler),('RF'  , RandomForestClassifier())])  ))\n",
    "    pipelines.append((nameOfScaler+'ET'  , Pipeline([('Scaler', scaler),('ET'  , ExtraTreesClassifier())])  ))\n",
    "\n",
    "    return pipelines\n",
    "\n",
    "\n",
    "# Train model\n",
    "def fit_model(X_train, y_train,models):\n",
    "    # Test options and evaluation metric\n",
    "    num_folds = 10\n",
    "    scoring = 'accuracy'\n",
    "\n",
    "    results = []\n",
    "    names = []\n",
    "    for name, model in models:\n",
    "        kfold = KFold(n_splits=num_folds, random_state=0)\n",
    "        cv_results = cross_val_score(model, X_train, y_train, cv=kfold, scoring=scoring)\n",
    "        results.append(cv_results)\n",
    "        names.append(name)\n",
    "        msg = \"%s: %f (%f)\" % (name, cv_results.mean(), cv_results.std())\n",
    "        print(msg)\n",
    "        \n",
    "    return names, results\n",
    "\n",
    "# Save trained model\n",
    "def save_model(model,filename):\n",
    "    pickle.dump(model, open(filename, 'wb'))\n",
    "\n",
    "# Performance Measure\n",
    "def classification_metrics(model, conf_matrix):\n",
    "    print(f\"Training Accuracy Score: {model.score(X_train, y_train) * 100:.1f}%\")\n",
    "    print(f\"Validation Accuracy Score: {model.score(X_test, y_test) * 100:.1f}%\")\n",
    "    fig,ax = plt.subplots(figsize=(8,6))\n",
    "    sns.heatmap(pd.DataFrame(conf_matrix), annot = True, cmap = 'YlGnBu',fmt = 'g')\n",
    "    ax.xaxis.set_label_position('top')\n",
    "    plt.tight_layout()\n",
    "    plt.title('Confusion matrix for Logisitic Regression Model', fontsize=20, y=1.1)\n",
    "    plt.ylabel('Actual label', fontsize=15)\n",
    "    plt.xlabel('Predicted label', fontsize=15)\n",
    "    plt.show()\n",
    "    print(classification_report(y_test, y_pred))\n",
    "    \n",
    "# ROC_AUC\n",
    "def roc_auc(y_test, y_pred):\n",
    "    fpr, tpr, thresholds = roc_curve(y_test, y_pred)\n",
    "    plt.figure(figsize=(8,6))\n",
    "    print(f\"roc_auc score: {auc(fpr, tpr)*100:.1f}%\")\n",
    "    plt.plot(fpr, tpr, color='orange', label='ROC')\n",
    "    plt.plot([0, 1], [0, 1], color='darkblue', linestyle='--')\n",
    "    plt.xlabel('False Positive Rate',fontsize=12)\n",
    "    plt.ylabel('True Positive Rate', fontsize=12)\n",
    "    plt.title('Receiver Operating Characteristic (ROC) Curve', fontsize=20)\n",
    "    plt.legend()\n",
    "    plt.show()"
   ]
  },
  {
   "cell_type": "markdown",
   "metadata": {
    "papermill": {
     "duration": 0.017061,
     "end_time": "2021-03-16T11:19:25.489715",
     "exception": false,
     "start_time": "2021-03-16T11:19:25.472654",
     "status": "completed"
    },
    "tags": []
   },
   "source": [
    "# [Data Analysis](http://)"
   ]
  },
  {
   "cell_type": "code",
   "execution_count": 4,
   "metadata": {
    "_kg_hide-input": true,
    "execution": {
     "iopub.execute_input": "2021-03-16T11:19:25.529427Z",
     "iopub.status.busy": "2021-03-16T11:19:25.528383Z",
     "iopub.status.idle": "2021-03-16T11:19:25.554870Z",
     "shell.execute_reply": "2021-03-16T11:19:25.555372Z"
    },
    "papermill": {
     "duration": 0.048257,
     "end_time": "2021-03-16T11:19:25.555598",
     "exception": false,
     "start_time": "2021-03-16T11:19:25.507341",
     "status": "completed"
    },
    "tags": []
   },
   "outputs": [
    {
     "name": "stdout",
     "output_type": "stream",
     "text": [
      "Number of Instances and Attributes: (1232, 13)\n",
      "\n",
      "\n",
      "Dataset columns: Index(['gender', 'hypertension', 'diabete', 'smokecurrent', 'hpgrade',\n",
      "       'chestpain', 'age', 'cho', 'rccach', 'max_ccach', 'max_ccacl', 'ps',\n",
      "       'target'],\n",
      "      dtype='object')\n",
      "\n",
      "\n",
      "<class 'pandas.core.frame.DataFrame'>\n",
      "RangeIndex: 1232 entries, 0 to 1231\n",
      "Data columns (total 13 columns):\n",
      " #   Column        Non-Null Count  Dtype  \n",
      "---  ------        --------------  -----  \n",
      " 0   gender        1232 non-null   int64  \n",
      " 1   hypertension  1232 non-null   int64  \n",
      " 2   diabete       1232 non-null   int64  \n",
      " 3   smokecurrent  1232 non-null   int64  \n",
      " 4   hpgrade       1232 non-null   float64\n",
      " 5   chestpain     1232 non-null   int64  \n",
      " 6   age           1232 non-null   int64  \n",
      " 7   cho           1232 non-null   float64\n",
      " 8   rccach        1232 non-null   float64\n",
      " 9   max_ccach     1232 non-null   float64\n",
      " 10  max_ccacl     1232 non-null   float64\n",
      " 11  ps            1232 non-null   float64\n",
      " 12  target        1232 non-null   int64  \n",
      "dtypes: float64(6), int64(7)\n",
      "memory usage: 125.2 KB\n",
      "Data types of each columns:  None\n"
     ]
    }
   ],
   "source": [
    "explore_data(df)"
   ]
  },
  {
   "cell_type": "markdown",
   "metadata": {
    "papermill": {
     "duration": 0.017729,
     "end_time": "2021-03-16T11:19:25.592525",
     "exception": false,
     "start_time": "2021-03-16T11:19:25.574796",
     "status": "completed"
    },
    "tags": []
   },
   "source": [
    "![](https://i.imgur.com/niqOo77.png)"
   ]
  },
  {
   "cell_type": "markdown",
   "metadata": {
    "papermill": {
     "duration": 0.01758,
     "end_time": "2021-03-16T11:19:25.627856",
     "exception": false,
     "start_time": "2021-03-16T11:19:25.610276",
     "status": "completed"
    },
    "tags": []
   },
   "source": [
    "# [ Checking for Nan Values and duplicates](http://)"
   ]
  },
  {
   "cell_type": "code",
   "execution_count": 5,
   "metadata": {
    "execution": {
     "iopub.execute_input": "2021-03-16T11:19:25.673463Z",
     "iopub.status.busy": "2021-03-16T11:19:25.671036Z",
     "iopub.status.idle": "2021-03-16T11:19:25.679046Z",
     "shell.execute_reply": "2021-03-16T11:19:25.678466Z"
    },
    "papermill": {
     "duration": 0.032233,
     "end_time": "2021-03-16T11:19:25.679322",
     "exception": false,
     "start_time": "2021-03-16T11:19:25.647089",
     "status": "completed"
    },
    "tags": []
   },
   "outputs": [
    {
     "data": {
      "text/plain": [
       "gender          0\n",
       "hypertension    0\n",
       "diabete         0\n",
       "smokecurrent    0\n",
       "hpgrade         0\n",
       "chestpain       0\n",
       "age             0\n",
       "cho             0\n",
       "rccach          0\n",
       "max_ccach       0\n",
       "max_ccacl       0\n",
       "ps              0\n",
       "target          0\n",
       "dtype: int64"
      ]
     },
     "execution_count": 5,
     "metadata": {},
     "output_type": "execute_result"
    }
   ],
   "source": [
    "df.isna().sum()"
   ]
  },
  {
   "cell_type": "code",
   "execution_count": 6,
   "metadata": {
    "execution": {
     "iopub.execute_input": "2021-03-16T11:19:25.725004Z",
     "iopub.status.busy": "2021-03-16T11:19:25.724048Z",
     "iopub.status.idle": "2021-03-16T11:19:25.735020Z",
     "shell.execute_reply": "2021-03-16T11:19:25.734314Z"
    },
    "papermill": {
     "duration": 0.037476,
     "end_time": "2021-03-16T11:19:25.735337",
     "exception": false,
     "start_time": "2021-03-16T11:19:25.697861",
     "status": "completed"
    },
    "tags": []
   },
   "outputs": [
    {
     "name": "stdout",
     "output_type": "stream",
     "text": [
      "Number of Duplicates:  7\n",
      "Duplicate values removed!\n"
     ]
    }
   ],
   "source": [
    "checking_removing_duplicates(df)"
   ]
  },
  {
   "cell_type": "code",
   "execution_count": 7,
   "metadata": {
    "execution": {
     "iopub.execute_input": "2021-03-16T11:19:25.777513Z",
     "iopub.status.busy": "2021-03-16T11:19:25.776873Z",
     "iopub.status.idle": "2021-03-16T11:19:25.787298Z",
     "shell.execute_reply": "2021-03-16T11:19:25.787844Z"
    },
    "papermill": {
     "duration": 0.033062,
     "end_time": "2021-03-16T11:19:25.788070",
     "exception": false,
     "start_time": "2021-03-16T11:19:25.755008",
     "status": "completed"
    },
    "tags": []
   },
   "outputs": [
    {
     "name": "stdout",
     "output_type": "stream",
     "text": [
      "Number of Duplicates:  0\n",
      "No Duplicate values\n"
     ]
    }
   ],
   "source": [
    "checking_removing_duplicates(df)"
   ]
  },
  {
   "cell_type": "code",
   "execution_count": 8,
   "metadata": {
    "execution": {
     "iopub.execute_input": "2021-03-16T11:19:25.834640Z",
     "iopub.status.busy": "2021-03-16T11:19:25.833843Z",
     "iopub.status.idle": "2021-03-16T11:19:25.862499Z",
     "shell.execute_reply": "2021-03-16T11:19:25.863440Z"
    },
    "papermill": {
     "duration": 0.055999,
     "end_time": "2021-03-16T11:19:25.863827",
     "exception": false,
     "start_time": "2021-03-16T11:19:25.807828",
     "status": "completed"
    },
    "tags": []
   },
   "outputs": [
    {
     "name": "stdout",
     "output_type": "stream",
     "text": [
      "gender           1.00\n",
      "hypertension     1.00\n",
      "diabete          0.00\n",
      "smokecurrent     1.00\n",
      "hpgrade          2.50\n",
      "chestpain        2.00\n",
      "age             14.00\n",
      "cho              1.41\n",
      "rccach           0.19\n",
      "max_ccach        0.21\n",
      "max_ccacl        0.93\n",
      "ps               0.38\n",
      "target           1.00\n",
      "dtype: float64\n"
     ]
    }
   ],
   "source": [
    "Q1 = df.quantile(0.25)\n",
    "Q3 = df.quantile(0.75)\n",
    "IQR = Q3 - Q1\n",
    "print(IQR)"
   ]
  },
  {
   "cell_type": "code",
   "execution_count": 9,
   "metadata": {
    "execution": {
     "iopub.execute_input": "2021-03-16T11:19:25.907885Z",
     "iopub.status.busy": "2021-03-16T11:19:25.907182Z",
     "iopub.status.idle": "2021-03-16T11:19:25.946244Z",
     "shell.execute_reply": "2021-03-16T11:19:25.945491Z"
    },
    "papermill": {
     "duration": 0.061825,
     "end_time": "2021-03-16T11:19:25.946414",
     "exception": false,
     "start_time": "2021-03-16T11:19:25.884589",
     "status": "completed"
    },
    "tags": []
   },
   "outputs": [
    {
     "data": {
      "text/html": [
       "<div>\n",
       "<style scoped>\n",
       "    .dataframe tbody tr th:only-of-type {\n",
       "        vertical-align: middle;\n",
       "    }\n",
       "\n",
       "    .dataframe tbody tr th {\n",
       "        vertical-align: top;\n",
       "    }\n",
       "\n",
       "    .dataframe thead th {\n",
       "        text-align: right;\n",
       "    }\n",
       "</style>\n",
       "<table border=\"1\" class=\"dataframe\">\n",
       "  <thead>\n",
       "    <tr style=\"text-align: right;\">\n",
       "      <th></th>\n",
       "      <th>gender</th>\n",
       "      <th>hypertension</th>\n",
       "      <th>diabete</th>\n",
       "      <th>smokecurrent</th>\n",
       "      <th>hpgrade</th>\n",
       "      <th>chestpain</th>\n",
       "      <th>age</th>\n",
       "      <th>cho</th>\n",
       "      <th>rccach</th>\n",
       "      <th>max_ccach</th>\n",
       "      <th>max_ccacl</th>\n",
       "      <th>ps</th>\n",
       "      <th>target</th>\n",
       "    </tr>\n",
       "  </thead>\n",
       "  <tbody>\n",
       "    <tr>\n",
       "      <th>0</th>\n",
       "      <td>0</td>\n",
       "      <td>1</td>\n",
       "      <td>0</td>\n",
       "      <td>0</td>\n",
       "      <td>3.0</td>\n",
       "      <td>3</td>\n",
       "      <td>74</td>\n",
       "      <td>2.63</td>\n",
       "      <td>0.15</td>\n",
       "      <td>0.15</td>\n",
       "      <td>0.39</td>\n",
       "      <td>0.15</td>\n",
       "      <td>0</td>\n",
       "    </tr>\n",
       "    <tr>\n",
       "      <th>1</th>\n",
       "      <td>1</td>\n",
       "      <td>0</td>\n",
       "      <td>0</td>\n",
       "      <td>0</td>\n",
       "      <td>3.0</td>\n",
       "      <td>0</td>\n",
       "      <td>69</td>\n",
       "      <td>3.09</td>\n",
       "      <td>0.00</td>\n",
       "      <td>0.17</td>\n",
       "      <td>0.42</td>\n",
       "      <td>0.17</td>\n",
       "      <td>0</td>\n",
       "    </tr>\n",
       "    <tr>\n",
       "      <th>2</th>\n",
       "      <td>0</td>\n",
       "      <td>0</td>\n",
       "      <td>0</td>\n",
       "      <td>0</td>\n",
       "      <td>0.5</td>\n",
       "      <td>0</td>\n",
       "      <td>63</td>\n",
       "      <td>6.48</td>\n",
       "      <td>0.00</td>\n",
       "      <td>0.00</td>\n",
       "      <td>0.00</td>\n",
       "      <td>0.00</td>\n",
       "      <td>0</td>\n",
       "    </tr>\n",
       "    <tr>\n",
       "      <th>3</th>\n",
       "      <td>0</td>\n",
       "      <td>1</td>\n",
       "      <td>0</td>\n",
       "      <td>0</td>\n",
       "      <td>3.0</td>\n",
       "      <td>0</td>\n",
       "      <td>63</td>\n",
       "      <td>5.96</td>\n",
       "      <td>0.25</td>\n",
       "      <td>0.25</td>\n",
       "      <td>2.30</td>\n",
       "      <td>0.71</td>\n",
       "      <td>0</td>\n",
       "    </tr>\n",
       "    <tr>\n",
       "      <th>4</th>\n",
       "      <td>1</td>\n",
       "      <td>0</td>\n",
       "      <td>0</td>\n",
       "      <td>1</td>\n",
       "      <td>0.0</td>\n",
       "      <td>0</td>\n",
       "      <td>65</td>\n",
       "      <td>3.73</td>\n",
       "      <td>0.19</td>\n",
       "      <td>0.19</td>\n",
       "      <td>0.62</td>\n",
       "      <td>0.34</td>\n",
       "      <td>0</td>\n",
       "    </tr>\n",
       "    <tr>\n",
       "      <th>...</th>\n",
       "      <td>...</td>\n",
       "      <td>...</td>\n",
       "      <td>...</td>\n",
       "      <td>...</td>\n",
       "      <td>...</td>\n",
       "      <td>...</td>\n",
       "      <td>...</td>\n",
       "      <td>...</td>\n",
       "      <td>...</td>\n",
       "      <td>...</td>\n",
       "      <td>...</td>\n",
       "      <td>...</td>\n",
       "      <td>...</td>\n",
       "    </tr>\n",
       "    <tr>\n",
       "      <th>1224</th>\n",
       "      <td>1</td>\n",
       "      <td>1</td>\n",
       "      <td>0</td>\n",
       "      <td>1</td>\n",
       "      <td>3.0</td>\n",
       "      <td>0</td>\n",
       "      <td>58</td>\n",
       "      <td>3.39</td>\n",
       "      <td>0.17</td>\n",
       "      <td>0.17</td>\n",
       "      <td>0.46</td>\n",
       "      <td>0.17</td>\n",
       "      <td>1</td>\n",
       "    </tr>\n",
       "    <tr>\n",
       "      <th>1226</th>\n",
       "      <td>0</td>\n",
       "      <td>0</td>\n",
       "      <td>0</td>\n",
       "      <td>0</td>\n",
       "      <td>1.0</td>\n",
       "      <td>3</td>\n",
       "      <td>75</td>\n",
       "      <td>3.70</td>\n",
       "      <td>0.28</td>\n",
       "      <td>0.28</td>\n",
       "      <td>1.60</td>\n",
       "      <td>0.53</td>\n",
       "      <td>1</td>\n",
       "    </tr>\n",
       "    <tr>\n",
       "      <th>1229</th>\n",
       "      <td>0</td>\n",
       "      <td>1</td>\n",
       "      <td>0</td>\n",
       "      <td>0</td>\n",
       "      <td>2.0</td>\n",
       "      <td>2</td>\n",
       "      <td>75</td>\n",
       "      <td>3.46</td>\n",
       "      <td>0.37</td>\n",
       "      <td>0.37</td>\n",
       "      <td>0.96</td>\n",
       "      <td>0.61</td>\n",
       "      <td>1</td>\n",
       "    </tr>\n",
       "    <tr>\n",
       "      <th>1230</th>\n",
       "      <td>1</td>\n",
       "      <td>0</td>\n",
       "      <td>0</td>\n",
       "      <td>0</td>\n",
       "      <td>0.5</td>\n",
       "      <td>3</td>\n",
       "      <td>64</td>\n",
       "      <td>3.92</td>\n",
       "      <td>0.21</td>\n",
       "      <td>0.21</td>\n",
       "      <td>0.82</td>\n",
       "      <td>0.41</td>\n",
       "      <td>1</td>\n",
       "    </tr>\n",
       "    <tr>\n",
       "      <th>1231</th>\n",
       "      <td>0</td>\n",
       "      <td>1</td>\n",
       "      <td>0</td>\n",
       "      <td>0</td>\n",
       "      <td>3.0</td>\n",
       "      <td>2</td>\n",
       "      <td>77</td>\n",
       "      <td>4.64</td>\n",
       "      <td>0.24</td>\n",
       "      <td>0.24</td>\n",
       "      <td>2.11</td>\n",
       "      <td>0.62</td>\n",
       "      <td>1</td>\n",
       "    </tr>\n",
       "  </tbody>\n",
       "</table>\n",
       "<p>981 rows × 13 columns</p>\n",
       "</div>"
      ],
      "text/plain": [
       "      gender  hypertension  diabete  smokecurrent  hpgrade  chestpain  age  \\\n",
       "0          0             1        0             0      3.0          3   74   \n",
       "1          1             0        0             0      3.0          0   69   \n",
       "2          0             0        0             0      0.5          0   63   \n",
       "3          0             1        0             0      3.0          0   63   \n",
       "4          1             0        0             1      0.0          0   65   \n",
       "...      ...           ...      ...           ...      ...        ...  ...   \n",
       "1224       1             1        0             1      3.0          0   58   \n",
       "1226       0             0        0             0      1.0          3   75   \n",
       "1229       0             1        0             0      2.0          2   75   \n",
       "1230       1             0        0             0      0.5          3   64   \n",
       "1231       0             1        0             0      3.0          2   77   \n",
       "\n",
       "       cho  rccach  max_ccach  max_ccacl    ps  target  \n",
       "0     2.63    0.15       0.15       0.39  0.15       0  \n",
       "1     3.09    0.00       0.17       0.42  0.17       0  \n",
       "2     6.48    0.00       0.00       0.00  0.00       0  \n",
       "3     5.96    0.25       0.25       2.30  0.71       0  \n",
       "4     3.73    0.19       0.19       0.62  0.34       0  \n",
       "...    ...     ...        ...        ...   ...     ...  \n",
       "1224  3.39    0.17       0.17       0.46  0.17       1  \n",
       "1226  3.70    0.28       0.28       1.60  0.53       1  \n",
       "1229  3.46    0.37       0.37       0.96  0.61       1  \n",
       "1230  3.92    0.21       0.21       0.82  0.41       1  \n",
       "1231  4.64    0.24       0.24       2.11  0.62       1  \n",
       "\n",
       "[981 rows x 13 columns]"
      ]
     },
     "execution_count": 9,
     "metadata": {},
     "output_type": "execute_result"
    }
   ],
   "source": [
    "df_out = df[~((df < (Q1 - 1.5 * IQR)) |(df > (Q3 + 1.5 * IQR))).any(axis=1)]\n",
    "df_out"
   ]
  },
  {
   "cell_type": "markdown",
   "metadata": {
    "papermill": {
     "duration": 0.020531,
     "end_time": "2021-03-16T11:19:25.987727",
     "exception": false,
     "start_time": "2021-03-16T11:19:25.967196",
     "status": "completed"
    },
    "tags": []
   },
   "source": [
    "# [Imbalanced Classes](http://)"
   ]
  },
  {
   "cell_type": "code",
   "execution_count": 10,
   "metadata": {
    "execution": {
     "iopub.execute_input": "2021-03-16T11:19:26.042611Z",
     "iopub.status.busy": "2021-03-16T11:19:26.040593Z",
     "iopub.status.idle": "2021-03-16T11:19:26.241864Z",
     "shell.execute_reply": "2021-03-16T11:19:26.240904Z"
    },
    "papermill": {
     "duration": 0.233582,
     "end_time": "2021-03-16T11:19:26.242050",
     "exception": false,
     "start_time": "2021-03-16T11:19:26.008468",
     "status": "completed"
    },
    "tags": []
   },
   "outputs": [
    {
     "data": {
      "image/png": "[encoded data removed]",
      "text/plain": [
       "<Figure size 720x360 with 1 Axes>"
      ]
     },
     "metadata": {},
     "output_type": "display_data"
    }
   ],
   "source": [
    "plt.figure(figsize=(10,5))\n",
    "sns.countplot(x=df['target'], palette='Set1');\n",
    "plt.title('Class Distribution',fontweight=\"bold\",alpha=0.8);"
   ]
  },
  {
   "cell_type": "markdown",
   "metadata": {
    "papermill": {
     "duration": 0.021272,
     "end_time": "2021-03-16T11:19:26.285254",
     "exception": false,
     "start_time": "2021-03-16T11:19:26.263982",
     "status": "completed"
    },
    "tags": []
   },
   "source": [
    "# [Oversample minority class](http://)"
   ]
  },
  {
   "cell_type": "code",
   "execution_count": 11,
   "metadata": {
    "execution": {
     "iopub.execute_input": "2021-03-16T11:19:26.338097Z",
     "iopub.status.busy": "2021-03-16T11:19:26.337262Z",
     "iopub.status.idle": "2021-03-16T11:19:26.349685Z",
     "shell.execute_reply": "2021-03-16T11:19:26.349145Z"
    },
    "papermill": {
     "duration": 0.042662,
     "end_time": "2021-03-16T11:19:26.349870",
     "exception": false,
     "start_time": "2021-03-16T11:19:26.307208",
     "status": "completed"
    },
    "tags": []
   },
   "outputs": [
    {
     "data": {
      "text/plain": [
       "0    518\n",
       "1    518\n",
       "Name: target, dtype: int64"
      ]
     },
     "execution_count": 11,
     "metadata": {},
     "output_type": "execute_result"
    }
   ],
   "source": [
    "cad = df_out[df_out.target == 1]\n",
    "no_cad = df_out[df_out.target==0]\n",
    "\n",
    "cad_upsampled = resample(cad,\n",
    "                        replace=True,\n",
    "                        n_samples=len(no_cad),\n",
    "                        random_state=420)\n",
    "\n",
    "upsampled = pd.concat([no_cad, cad_upsampled])\n",
    "upsampled.target.value_counts()"
   ]
  },
  {
   "cell_type": "markdown",
   "metadata": {
    "papermill": {
     "duration": 0.021863,
     "end_time": "2021-03-16T11:19:26.393861",
     "exception": false,
     "start_time": "2021-03-16T11:19:26.371998",
     "status": "completed"
    },
    "tags": []
   },
   "source": [
    "# [Train model](http://)"
   ]
  },
  {
   "cell_type": "code",
   "execution_count": 12,
   "metadata": {
    "execution": {
     "iopub.execute_input": "2021-03-16T11:19:26.445462Z",
     "iopub.status.busy": "2021-03-16T11:19:26.444578Z",
     "iopub.status.idle": "2021-03-16T11:19:28.389031Z",
     "shell.execute_reply": "2021-03-16T11:19:28.388355Z"
    },
    "papermill": {
     "duration": 1.973184,
     "end_time": "2021-03-16T11:19:28.389205",
     "exception": false,
     "start_time": "2021-03-16T11:19:26.416021",
     "status": "completed"
    },
    "tags": []
   },
   "outputs": [
    {
     "name": "stdout",
     "output_type": "stream",
     "text": [
      "LR: 0.701365 (0.048379)\n",
      "LDA: 0.693640 (0.053916)\n",
      "KNN: 0.694988 (0.044384)\n",
      "CART: 0.772061 (0.038261)\n",
      "NB: 0.693540 (0.055902)\n",
      "SVM: 0.586846 (0.062810)\n"
     ]
    }
   ],
   "source": [
    "target = 'target'\n",
    "X_train, X_test, y_train, y_test = read_in_and_split_data(upsampled, target)\n",
    "\n",
    "models = GetModel()\n",
    "names,results = fit_model(X_train, y_train,models)"
   ]
  },
  {
   "cell_type": "markdown",
   "metadata": {
    "papermill": {
     "duration": 0.022858,
     "end_time": "2021-03-16T11:19:28.435719",
     "exception": false,
     "start_time": "2021-03-16T11:19:28.412861",
     "status": "completed"
    },
    "tags": []
   },
   "source": [
    "# [Improve accuracy using ensemble models](http://)"
   ]
  },
  {
   "cell_type": "code",
   "execution_count": 13,
   "metadata": {
    "execution": {
     "iopub.execute_input": "2021-03-16T11:19:28.489060Z",
     "iopub.status.busy": "2021-03-16T11:19:28.488367Z",
     "iopub.status.idle": "2021-03-16T11:19:36.312398Z",
     "shell.execute_reply": "2021-03-16T11:19:36.312955Z"
    },
    "papermill": {
     "duration": 7.853867,
     "end_time": "2021-03-16T11:19:36.313193",
     "exception": false,
     "start_time": "2021-03-16T11:19:28.459326",
     "status": "completed"
    },
    "tags": []
   },
   "outputs": [
    {
     "name": "stdout",
     "output_type": "stream",
     "text": [
      "AB: 0.755345 (0.045270)\n",
      "GBM: 0.782418 (0.039268)\n",
      "RF: 0.818548 (0.048469)\n",
      "Bagging: 0.801815 (0.051053)\n",
      "ET: 0.826157 (0.039983)\n"
     ]
    }
   ],
   "source": [
    "ensemodel = ensemblemodels()\n",
    "names,results = fit_model(X_train, y_train,ensemodel)"
   ]
  },
  {
   "cell_type": "markdown",
   "metadata": {
    "papermill": {
     "duration": 0.024556,
     "end_time": "2021-03-16T11:19:36.363492",
     "exception": false,
     "start_time": "2021-03-16T11:19:36.338936",
     "status": "completed"
    },
    "tags": []
   },
   "source": [
    "# [Experiment Different preprocessing techniques to improve accuracy](http://)"
   ]
  },
  {
   "cell_type": "code",
   "execution_count": 14,
   "metadata": {
    "execution": {
     "iopub.execute_input": "2021-03-16T11:19:36.426473Z",
     "iopub.status.busy": "2021-03-16T11:19:36.421376Z",
     "iopub.status.idle": "2021-03-16T11:19:44.932408Z",
     "shell.execute_reply": "2021-03-16T11:19:44.931147Z"
    },
    "papermill": {
     "duration": 8.544429,
     "end_time": "2021-03-16T11:19:44.932680",
     "exception": false,
     "start_time": "2021-03-16T11:19:36.388251",
     "status": "completed"
    },
    "tags": []
   },
   "outputs": [
    {
     "name": "stdout",
     "output_type": "stream",
     "text": [
      "standardLR: 0.697469 (0.051778)\n",
      "standardLDA: 0.693640 (0.053916)\n",
      "standardKNN: 0.720713 (0.054836)\n",
      "standardCART: 0.774742 (0.034825)\n",
      "standardNB: 0.693540 (0.055902)\n",
      "standardSVM: 0.707809 (0.031386)\n",
      "standardAB: 0.755345 (0.045270)\n",
      "standardGBM: 0.782418 (0.039268)\n",
      "standardRF: 0.818565 (0.043260)\n",
      "standardET: 0.822344 (0.039624)\n"
     ]
    }
   ],
   "source": [
    "ScaledModel = NormalizedModel('standard')\n",
    "name,results = fit_model(X_train, y_train, ScaledModel)"
   ]
  },
  {
   "cell_type": "code",
   "execution_count": 15,
   "metadata": {
    "execution": {
     "iopub.execute_input": "2021-03-16T11:19:45.004641Z",
     "iopub.status.busy": "2021-03-16T11:19:45.003311Z",
     "iopub.status.idle": "2021-03-16T11:19:54.721491Z",
     "shell.execute_reply": "2021-03-16T11:19:54.720873Z"
    },
    "papermill": {
     "duration": 9.759937,
     "end_time": "2021-03-16T11:19:54.721672",
     "exception": false,
     "start_time": "2021-03-16T11:19:44.961735",
     "status": "completed"
    },
    "tags": []
   },
   "outputs": [
    {
     "name": "stdout",
     "output_type": "stream",
     "text": [
      "normalizerLR: 0.629254 (0.086512)\n",
      "normalizerLDA: 0.709124 (0.042820)\n",
      "normalizerKNN: 0.754129 (0.032251)\n",
      "normalizerCART: 0.770946 (0.044559)\n",
      "normalizerNB: 0.685798 (0.048408)\n",
      "normalizerSVM: 0.503380 (0.065977)\n",
      "normalizerAB: 0.745072 (0.055149)\n",
      "normalizerGBM: 0.781119 (0.055366)\n",
      "normalizerRF: 0.812005 (0.054020)\n",
      "normalizerET: 0.827489 (0.042133)\n"
     ]
    }
   ],
   "source": [
    "ScaledModel = NormalizedModel('normalizer')\n",
    "name,results = fit_model(X_train, y_train, ScaledModel)"
   ]
  },
  {
   "cell_type": "code",
   "execution_count": 16,
   "metadata": {
    "execution": {
     "iopub.execute_input": "2021-03-16T11:19:54.794692Z",
     "iopub.status.busy": "2021-03-16T11:19:54.791253Z",
     "iopub.status.idle": "2021-03-16T11:20:03.367526Z",
     "shell.execute_reply": "2021-03-16T11:20:03.366619Z"
    },
    "papermill": {
     "duration": 8.614807,
     "end_time": "2021-03-16T11:20:03.367720",
     "exception": false,
     "start_time": "2021-03-16T11:19:54.752913",
     "status": "completed"
    },
    "tags": []
   },
   "outputs": [
    {
     "name": "stdout",
     "output_type": "stream",
     "text": [
      "minmaxLR: 0.693640 (0.051015)\n",
      "minmaxLDA: 0.693640 (0.053916)\n",
      "minmaxKNN: 0.743823 (0.042817)\n",
      "minmaxCART: 0.757925 (0.051732)\n",
      "minmaxNB: 0.693540 (0.055902)\n",
      "minmaxSVM: 0.715534 (0.027667)\n",
      "minmaxAB: 0.755345 (0.045270)\n",
      "minmaxGBM: 0.778571 (0.037177)\n",
      "minmaxRF: 0.827539 (0.036257)\n",
      "minmaxET: 0.827489 (0.040167)\n"
     ]
    }
   ],
   "source": [
    "ScaledModel = NormalizedModel('minmax')\n",
    "name,results = fit_model(X_train, y_train, ScaledModel)"
   ]
  },
  {
   "cell_type": "markdown",
   "metadata": {
    "papermill": {
     "duration": 0.034151,
     "end_time": "2021-03-16T11:20:03.435277",
     "exception": false,
     "start_time": "2021-03-16T11:20:03.401126",
     "status": "completed"
    },
    "tags": []
   },
   "source": [
    "# [Fine tuning gradient boosting classifier model](http://)"
   ]
  },
  {
   "cell_type": "code",
   "execution_count": 17,
   "metadata": {
    "execution": {
     "iopub.execute_input": "2021-03-16T11:20:03.512367Z",
     "iopub.status.busy": "2021-03-16T11:20:03.511166Z",
     "iopub.status.idle": "2021-03-16T11:29:24.181810Z",
     "shell.execute_reply": "2021-03-16T11:29:24.182689Z"
    },
    "papermill": {
     "duration": 560.715074,
     "end_time": "2021-03-16T11:29:24.183011",
     "exception": false,
     "start_time": "2021-03-16T11:20:03.467937",
     "status": "completed"
    },
    "tags": []
   },
   "outputs": [
    {
     "name": "stdout",
     "output_type": "stream",
     "text": [
      "Best: 0.813387 using {'learning_rate': 0.1, 'max_depth': 9, 'n_estimators': 1000, 'subsample': 1.0}\n",
      "0.505794 (0.005328) with: {'learning_rate': 0.001, 'max_depth': 3, 'n_estimators': 10, 'subsample': 0.5}\n",
      "0.505794 (0.005328) with: {'learning_rate': 0.001, 'max_depth': 3, 'n_estimators': 10, 'subsample': 0.7}\n",
      "0.517333 (0.037266) with: {'learning_rate': 0.001, 'max_depth': 3, 'n_estimators': 10, 'subsample': 1.0}\n",
      "0.755428 (0.040724) with: {'learning_rate': 0.001, 'max_depth': 3, 'n_estimators': 100, 'subsample': 0.5}\n",
      "0.760606 (0.035889) with: {'learning_rate': 0.001, 'max_depth': 3, 'n_estimators': 100, 'subsample': 0.7}\n",
      "0.746420 (0.026892) with: {'learning_rate': 0.001, 'max_depth': 3, 'n_estimators': 100, 'subsample': 1.0}\n",
      "0.755411 (0.029342) with: {'learning_rate': 0.001, 'max_depth': 3, 'n_estimators': 1000, 'subsample': 0.5}\n",
      "0.763154 (0.035439) with: {'learning_rate': 0.001, 'max_depth': 3, 'n_estimators': 1000, 'subsample': 0.7}\n",
      "0.763120 (0.031228) with: {'learning_rate': 0.001, 'max_depth': 3, 'n_estimators': 1000, 'subsample': 1.0}\n",
      "0.546820 (0.067403) with: {'learning_rate': 0.001, 'max_depth': 7, 'n_estimators': 10, 'subsample': 0.5}\n",
      "0.545538 (0.065949) with: {'learning_rate': 0.001, 'max_depth': 7, 'n_estimators': 10, 'subsample': 0.7}\n",
      "0.562204 (0.090868) with: {'learning_rate': 0.001, 'max_depth': 7, 'n_estimators': 10, 'subsample': 1.0}\n",
      "0.777306 (0.034846) with: {'learning_rate': 0.001, 'max_depth': 7, 'n_estimators': 100, 'subsample': 0.5}\n",
      "0.778605 (0.028863) with: {'learning_rate': 0.001, 'max_depth': 7, 'n_estimators': 100, 'subsample': 0.7}\n",
      "0.773360 (0.034555) with: {'learning_rate': 0.001, 'max_depth': 7, 'n_estimators': 100, 'subsample': 1.0}\n",
      "0.795388 (0.026521) with: {'learning_rate': 0.001, 'max_depth': 7, 'n_estimators': 1000, 'subsample': 0.5}\n",
      "0.788894 (0.025566) with: {'learning_rate': 0.001, 'max_depth': 7, 'n_estimators': 1000, 'subsample': 0.7}\n",
      "0.781202 (0.040953) with: {'learning_rate': 0.001, 'max_depth': 7, 'n_estimators': 1000, 'subsample': 1.0}\n",
      "0.540410 (0.059505) with: {'learning_rate': 0.001, 'max_depth': 9, 'n_estimators': 10, 'subsample': 0.5}\n",
      "0.546820 (0.067646) with: {'learning_rate': 0.001, 'max_depth': 9, 'n_estimators': 10, 'subsample': 0.7}\n",
      "0.581435 (0.121037) with: {'learning_rate': 0.001, 'max_depth': 9, 'n_estimators': 10, 'subsample': 1.0}\n",
      "0.783716 (0.041838) with: {'learning_rate': 0.001, 'max_depth': 9, 'n_estimators': 100, 'subsample': 0.5}\n",
      "0.787562 (0.038925) with: {'learning_rate': 0.001, 'max_depth': 9, 'n_estimators': 100, 'subsample': 0.7}\n",
      "0.770796 (0.050406) with: {'learning_rate': 0.001, 'max_depth': 9, 'n_estimators': 100, 'subsample': 1.0}\n",
      "0.800483 (0.042803) with: {'learning_rate': 0.001, 'max_depth': 9, 'n_estimators': 1000, 'subsample': 0.5}\n",
      "0.797885 (0.034121) with: {'learning_rate': 0.001, 'max_depth': 9, 'n_estimators': 1000, 'subsample': 0.7}\n",
      "0.777289 (0.037671) with: {'learning_rate': 0.001, 'max_depth': 9, 'n_estimators': 1000, 'subsample': 1.0}\n",
      "0.760506 (0.032566) with: {'learning_rate': 0.01, 'max_depth': 3, 'n_estimators': 10, 'subsample': 0.5}\n",
      "0.758025 (0.032290) with: {'learning_rate': 0.01, 'max_depth': 3, 'n_estimators': 10, 'subsample': 0.7}\n",
      "0.746420 (0.026892) with: {'learning_rate': 0.01, 'max_depth': 3, 'n_estimators': 10, 'subsample': 1.0}\n",
      "0.756693 (0.028987) with: {'learning_rate': 0.01, 'max_depth': 3, 'n_estimators': 100, 'subsample': 0.5}\n",
      "0.763137 (0.036047) with: {'learning_rate': 0.01, 'max_depth': 3, 'n_estimators': 100, 'subsample': 0.7}\n",
      "0.763120 (0.031228) with: {'learning_rate': 0.01, 'max_depth': 3, 'n_estimators': 100, 'subsample': 1.0}\n",
      "0.777206 (0.046070) with: {'learning_rate': 0.01, 'max_depth': 3, 'n_estimators': 1000, 'subsample': 0.5}\n",
      "0.779754 (0.052379) with: {'learning_rate': 0.01, 'max_depth': 3, 'n_estimators': 1000, 'subsample': 0.7}\n",
      "0.773443 (0.039395) with: {'learning_rate': 0.01, 'max_depth': 3, 'n_estimators': 1000, 'subsample': 1.0}\n",
      "0.772211 (0.035390) with: {'learning_rate': 0.01, 'max_depth': 7, 'n_estimators': 10, 'subsample': 0.5}\n",
      "0.775974 (0.021872) with: {'learning_rate': 0.01, 'max_depth': 7, 'n_estimators': 10, 'subsample': 0.7}\n",
      "0.774659 (0.030403) with: {'learning_rate': 0.01, 'max_depth': 7, 'n_estimators': 10, 'subsample': 1.0}\n",
      "0.786414 (0.035303) with: {'learning_rate': 0.01, 'max_depth': 7, 'n_estimators': 100, 'subsample': 0.5}\n",
      "0.795271 (0.033941) with: {'learning_rate': 0.01, 'max_depth': 7, 'n_estimators': 100, 'subsample': 0.7}\n",
      "0.779920 (0.037231) with: {'learning_rate': 0.01, 'max_depth': 7, 'n_estimators': 100, 'subsample': 1.0}\n",
      "0.808175 (0.040024) with: {'learning_rate': 0.01, 'max_depth': 7, 'n_estimators': 1000, 'subsample': 0.5}\n",
      "0.809474 (0.038813) with: {'learning_rate': 0.01, 'max_depth': 7, 'n_estimators': 1000, 'subsample': 0.7}\n",
      "0.804362 (0.035150) with: {'learning_rate': 0.01, 'max_depth': 7, 'n_estimators': 1000, 'subsample': 1.0}\n",
      "0.777289 (0.024246) with: {'learning_rate': 0.01, 'max_depth': 9, 'n_estimators': 10, 'subsample': 0.5}\n",
      "0.786347 (0.039299) with: {'learning_rate': 0.01, 'max_depth': 9, 'n_estimators': 10, 'subsample': 0.7}\n",
      "0.774659 (0.051479) with: {'learning_rate': 0.01, 'max_depth': 9, 'n_estimators': 10, 'subsample': 1.0}\n",
      "0.799251 (0.041225) with: {'learning_rate': 0.01, 'max_depth': 9, 'n_estimators': 100, 'subsample': 0.5}\n",
      "0.797885 (0.036450) with: {'learning_rate': 0.01, 'max_depth': 9, 'n_estimators': 100, 'subsample': 0.7}\n",
      "0.777239 (0.044048) with: {'learning_rate': 0.01, 'max_depth': 9, 'n_estimators': 100, 'subsample': 1.0}\n",
      "0.813353 (0.036404) with: {'learning_rate': 0.01, 'max_depth': 9, 'n_estimators': 1000, 'subsample': 0.5}\n",
      "0.810756 (0.033499) with: {'learning_rate': 0.01, 'max_depth': 9, 'n_estimators': 1000, 'subsample': 0.7}\n",
      "0.804279 (0.042363) with: {'learning_rate': 0.01, 'max_depth': 9, 'n_estimators': 1000, 'subsample': 1.0}\n",
      "0.752781 (0.042225) with: {'learning_rate': 0.1, 'max_depth': 3, 'n_estimators': 10, 'subsample': 0.5}\n",
      "0.750316 (0.027848) with: {'learning_rate': 0.1, 'max_depth': 3, 'n_estimators': 10, 'subsample': 0.7}\n",
      "0.759274 (0.029950) with: {'learning_rate': 0.1, 'max_depth': 3, 'n_estimators': 10, 'subsample': 1.0}\n",
      "0.777173 (0.053171) with: {'learning_rate': 0.1, 'max_depth': 3, 'n_estimators': 100, 'subsample': 0.5}\n",
      "0.775991 (0.051444) with: {'learning_rate': 0.1, 'max_depth': 3, 'n_estimators': 100, 'subsample': 0.7}\n",
      "0.770829 (0.036831) with: {'learning_rate': 0.1, 'max_depth': 3, 'n_estimators': 100, 'subsample': 1.0}\n",
      "0.797919 (0.039236) with: {'learning_rate': 0.1, 'max_depth': 3, 'n_estimators': 1000, 'subsample': 0.5}\n",
      "0.791525 (0.031759) with: {'learning_rate': 0.1, 'max_depth': 3, 'n_estimators': 1000, 'subsample': 0.7}\n",
      "0.794073 (0.038400) with: {'learning_rate': 0.1, 'max_depth': 3, 'n_estimators': 1000, 'subsample': 1.0}\n",
      "0.778571 (0.034773) with: {'learning_rate': 0.1, 'max_depth': 7, 'n_estimators': 10, 'subsample': 0.5}\n",
      "0.782368 (0.039565) with: {'learning_rate': 0.1, 'max_depth': 7, 'n_estimators': 10, 'subsample': 0.7}\n",
      "0.788861 (0.029487) with: {'learning_rate': 0.1, 'max_depth': 7, 'n_estimators': 10, 'subsample': 1.0}\n",
      "0.812055 (0.046242) with: {'learning_rate': 0.1, 'max_depth': 7, 'n_estimators': 100, 'subsample': 0.5}\n",
      "0.805611 (0.046178) with: {'learning_rate': 0.1, 'max_depth': 7, 'n_estimators': 100, 'subsample': 0.7}\n",
      "0.805678 (0.037990) with: {'learning_rate': 0.1, 'max_depth': 7, 'n_estimators': 100, 'subsample': 1.0}\n",
      "0.800433 (0.045490) with: {'learning_rate': 0.1, 'max_depth': 7, 'n_estimators': 1000, 'subsample': 0.5}\n",
      "0.806876 (0.044589) with: {'learning_rate': 0.1, 'max_depth': 7, 'n_estimators': 1000, 'subsample': 0.7}\n",
      "0.810806 (0.035109) with: {'learning_rate': 0.1, 'max_depth': 7, 'n_estimators': 1000, 'subsample': 1.0}\n",
      "0.782617 (0.041065) with: {'learning_rate': 0.1, 'max_depth': 9, 'n_estimators': 10, 'subsample': 0.5}\n",
      "0.788911 (0.042135) with: {'learning_rate': 0.1, 'max_depth': 9, 'n_estimators': 10, 'subsample': 0.7}\n",
      "0.786264 (0.046682) with: {'learning_rate': 0.1, 'max_depth': 9, 'n_estimators': 10, 'subsample': 1.0}\n",
      "0.809491 (0.040927) with: {'learning_rate': 0.1, 'max_depth': 9, 'n_estimators': 100, 'subsample': 0.5}\n",
      "0.796603 (0.043781) with: {'learning_rate': 0.1, 'max_depth': 9, 'n_estimators': 100, 'subsample': 0.7}\n",
      "0.800400 (0.040643) with: {'learning_rate': 0.1, 'max_depth': 9, 'n_estimators': 100, 'subsample': 1.0}\n",
      "0.801798 (0.040370) with: {'learning_rate': 0.1, 'max_depth': 9, 'n_estimators': 1000, 'subsample': 0.5}\n",
      "0.801715 (0.037881) with: {'learning_rate': 0.1, 'max_depth': 9, 'n_estimators': 1000, 'subsample': 0.7}\n",
      "0.813387 (0.031564) with: {'learning_rate': 0.1, 'max_depth': 9, 'n_estimators': 1000, 'subsample': 1.0}\n"
     ]
    }
   ],
   "source": [
    "model = GradientBoostingClassifier()\n",
    "n_estimators = [10, 100, 1000]\n",
    "learning_rate = [0.001, 0.01, 0.1]\n",
    "subsample = [0.5, 0.7, 1.0]\n",
    "max_depth = [3, 7, 9]\n",
    "#define grid search\n",
    "\n",
    "grid = dict(learning_rate=learning_rate, n_estimators=n_estimators, subsample=subsample, max_depth=max_depth)\n",
    "kfold = KFold(n_splits=10, random_state=0)\n",
    "cv_results = cross_val_score(model, X_train, y_train, cv=10, scoring='accuracy')\n",
    "grid_search = GridSearchCV(estimator=model, param_grid=grid, n_jobs=-1, cv=10, scoring='accuracy',error_score=0)\n",
    "grid_result = grid_search.fit(X_train, y_train)\n",
    "# summarize results\n",
    "print(\"Best: %f using %s\" % (grid_result.best_score_, grid_result.best_params_))\n",
    "means = grid_result.cv_results_['mean_test_score']\n",
    "stds = grid_result.cv_results_['std_test_score']\n",
    "params = grid_result.cv_results_['params']\n",
    "for mean, stdev, param in zip(means, stds, params):\n",
    "    print(\"%f (%f) with: %r\" % (mean, stdev, param))"
   ]
  },
  {
   "cell_type": "code",
   "execution_count": 18,
   "metadata": {
    "execution": {
     "iopub.execute_input": "2021-03-16T11:29:24.262387Z",
     "iopub.status.busy": "2021-03-16T11:29:24.261506Z",
     "iopub.status.idle": "2021-03-16T11:29:33.192450Z",
     "shell.execute_reply": "2021-03-16T11:29:33.193046Z"
    },
    "papermill": {
     "duration": 8.975414,
     "end_time": "2021-03-16T11:29:33.193281",
     "exception": false,
     "start_time": "2021-03-16T11:29:24.217867",
     "status": "completed"
    },
    "tags": []
   },
   "outputs": [
    {
     "name": "stdout",
     "output_type": "stream",
     "text": [
      "Training Accuracy Score: 100.0%\n",
      "Validation Accuracy Score: 81.9%\n"
     ]
    },
    {
     "data": {
      "image/png": "[encoded data removed]",
      "text/plain": [
       "<Figure size 576x432 with 2 Axes>"
      ]
     },
     "metadata": {},
     "output_type": "display_data"
    },
    {
     "name": "stdout",
     "output_type": "stream",
     "text": [
      "              precision    recall  f1-score   support\n",
      "\n",
      "           0       0.85      0.78      0.82       134\n",
      "           1       0.79      0.86      0.82       125\n",
      "\n",
      "    accuracy                           0.82       259\n",
      "   macro avg       0.82      0.82      0.82       259\n",
      "weighted avg       0.82      0.82      0.82       259\n",
      "\n",
      "roc_auc score: 82.0%\n"
     ]
    },
    {
     "data": {
      "image/png": "[encoded data removed]",
      "text/plain": [
       "<Figure size 576x432 with 1 Axes>"
      ]
     },
     "metadata": {},
     "output_type": "display_data"
    }
   ],
   "source": [
    "pipeline = make_pipeline(MinMaxScaler(),  GradientBoostingClassifier(learning_rate=0.1, max_depth=9, n_estimators=1000, subsample=0.7))\n",
    "model = pipeline.fit(X_train, y_train)\n",
    "y_pred = pipeline.predict(X_test)\n",
    "conf_matrix = confusion_matrix(y_test,y_pred)\n",
    "classification_metrics(pipeline, conf_matrix)\n",
    "roc_auc(y_test, y_pred)\n",
    "\n",
    "save_model(model, 'model.pkl')"
   ]
  }
 ],
 "metadata": {
  "kernelspec": {
   "display_name": "Python 3",
   "language": "python",
   "name": "python3"
  },
  "language_info": {
   "codemirror_mode": {
    "name": "ipython",
    "version": 3
   },
   "file_extension": ".py",
   "mimetype": "text/x-python",
   "name": "python",
   "nbconvert_exporter": "python",
   "pygments_lexer": "ipython3",
   "version": "3.7.9"
  },
  "papermill": {
   "default_parameters": {},
   "duration": 620.956315,
   "end_time": "2021-03-16T11:29:34.844257",
   "environment_variables": {},
   "exception": null,
   "input_path": "__notebook__.ipynb",
   "output_path": "__notebook__.ipynb",
   "parameters": {},
   "start_time": "2021-03-16T11:19:13.887942",
   "version": "2.2.2"
  }
 },
 "nbformat": 4,
 "nbformat_minor": 4
}
